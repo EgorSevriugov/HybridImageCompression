{
 "cells": [
  {
   "cell_type": "markdown",
   "id": "ccc7d77d",
   "metadata": {},
   "source": [
    "# NeuralCompression Metrics Example\n",
    "\n",
    "## Introduction\n",
    "\n",
    "Welcome! This notebook will walkthrough using the `neuralcompression.metrics` and `torchmetrics` packages to evaluate models using rate distortion curves. "
   ]
  },
  {
   "cell_type": "markdown",
   "id": "974d5f93",
   "metadata": {},
   "source": [
    "First, if you haven't yet installed `neuralcompression`, do so below with: "
   ]
  },
  {
   "cell_type": "code",
   "execution_count": null,
   "id": "3939f78c",
   "metadata": {
    "tags": []
   },
   "outputs": [],
   "source": [
    "# !pip install git+https://github.com/facebookresearch/NeuralCompression/\n",
    "# !pip install -U git+https://github.com/facebookresearch/NeuralCompression/\n",
    "# !git clone https://github.com/facebookresearch/NeuralCompression/\n",
    "# import sys\n",
    "# !{sys.executable} -m pip install tqdm==4.40.0"
   ]
  },
  {
   "cell_type": "code",
   "execution_count": 1,
   "id": "d0628ea0-5507-402d-8bc2-fa147d3c689e",
   "metadata": {},
   "outputs": [
    {
     "name": "stdout",
     "output_type": "stream",
     "text": [
      "nigula38\n"
     ]
    }
   ],
   "source": [
    "import os\n",
    "print (os.environ['CONDA_DEFAULT_ENV'])"
   ]
  },
  {
   "cell_type": "code",
   "execution_count": 3,
   "id": "438fcd42-d51f-4015-b180-9582f130a6db",
   "metadata": {},
   "outputs": [],
   "source": [
    "import os\n",
    "os.environ['CUDA_VISIBLE_DEVICES'] = '5'\n",
    "os.environ['CUDA_LAUNCH_BLOCKING'] = '1'"
   ]
  },
  {
   "cell_type": "code",
   "execution_count": 1,
   "id": "44317dc7-5cbd-4dba-9b47-a3e1689c8f9a",
   "metadata": {},
   "outputs": [],
   "source": [
    "# from tqdm.auto import tqdm\n",
    "from tqdm import tqdm"
   ]
  },
  {
   "cell_type": "code",
   "execution_count": 2,
   "id": "ee7c849a",
   "metadata": {},
   "outputs": [
    {
     "name": "stdout",
     "output_type": "stream",
     "text": [
      "Using /home/babakov/.cache/torch_extensions/py38_cu102 as PyTorch extensions root...\n",
      "Emitting ninja build file /home/babakov/.cache/torch_extensions/py38_cu102/_pmf_to_quantized_cdf/build.ninja...\n",
      "Building extension module _pmf_to_quantized_cdf...\n",
      "Allowing ninja to set a default number of workers... (overridable by setting the environment variable MAX_JOBS=N)\n",
      "Loading extension module _pmf_to_quantized_cdf...\n"
     ]
    }
   ],
   "source": [
    "from collections import defaultdict\n",
    "import io\n",
    "\n",
    "import torch\n",
    "from torch.utils.data import DataLoader\n",
    "\n",
    "from compressai import zoo\n",
    "\n",
    "import torchmetrics as tm\n",
    "import torchmetrics.functional as tmF\n",
    "\n",
    "import neuralcompression as nc\n",
    "import neuralcompression.functional as ncF\n",
    "import neuralcompression.metrics as ncm\n",
    "\n",
    "import torchvision.transforms as tfms\n",
    "\n",
    "\n",
    "import math\n",
    "from PIL import Image\n",
    "\n",
    "import matplotlib.pyplot as plt"
   ]
  },
  {
   "cell_type": "markdown",
   "id": "61980280",
   "metadata": {},
   "source": [
    "## Finding And Using Metrics\n",
    "\n",
    "The metrics implemented in `neuralcompression.metrics` aim to complement/extend those aready in `torchmetrics`. `torchmetrics` features high-quality implementations of MSE, PSNR, FID, KID, and more (check the [package documentation](https://torchmetrics.readthedocs.io/en/latest/references/modules.html) for a complete list), and are therefore not reimplemented inside of `neuralcompression`. \n",
    "\n",
    "Most of the metrics supported in `torchmetrics` have both functional and `nn.Module`-based APIs. Module metrics add additional functionality like accumulation across batches and first-class [compatibility](https://torchmetrics.readthedocs.io/en/latest/pages/lightning.html) with PyTorch Lightning."
   ]
  },
  {
   "cell_type": "code",
   "execution_count": 3,
   "id": "5555cc74",
   "metadata": {},
   "outputs": [],
   "source": [
    "image_shape = (1,3,256,256)\n",
    "\n",
    "image_a = torch.randn(image_shape)\n",
    "image_b = torch.randn(image_shape)"
   ]
  },
  {
   "cell_type": "code",
   "execution_count": 4,
   "id": "4c659820",
   "metadata": {},
   "outputs": [
    {
     "name": "stderr",
     "output_type": "stream",
     "text": [
      "/home/babakov/.local/lib/python3.8/site-packages/deprecate/deprecation.py:115: FutureWarning: The `PSNR` was deprecated since v0.7 in favor of `torchmetrics.image.psnr.PeakSignalNoiseRatio`. It will be removed in v0.8.\n",
      "  stream(template_mgs % msg_args)\n",
      "/home/babakov/.local/lib/python3.8/site-packages/deprecate/deprecation.py:115: FutureWarning: The `psnr` was deprecated since v0.7 in favor of `torchmetrics.functional.image.psnr.peak_signal_noise_ratio`. It will be removed in v0.8.\n",
      "  stream(template_mgs % msg_args)\n"
     ]
    },
    {
     "data": {
      "text/plain": [
       "(tensor(15.8082), tensor(15.8082))"
      ]
     },
     "execution_count": 4,
     "metadata": {},
     "output_type": "execute_result"
    }
   ],
   "source": [
    "psnr_metric = tm.PSNR()\n",
    "psnr_module = psnr_metric(image_a, image_b)\n",
    "psnr_functional = tmF.psnr(image_a, image_b)\n",
    "\n",
    "psnr_module, psnr_functional"
   ]
  },
  {
   "cell_type": "markdown",
   "id": "2355dc19",
   "metadata": {},
   "source": [
    "Metrics that are missing from `torchmetrics` that are otherwise important to compression, such as MS-SSIM and LPIPS, can be found in `neuralcompression`. Similar to `torchmetrics`, each metric has a functional API that can be imported from `neuralcompression.functional`, and a Module API found in `neuralcompression.metrics`."
   ]
  },
  {
   "cell_type": "code",
   "execution_count": 5,
   "id": "f7f6c366",
   "metadata": {},
   "outputs": [
    {
     "data": {
      "text/plain": [
       "(tensor(0.0149), tensor(0.0149))"
      ]
     },
     "execution_count": 5,
     "metadata": {},
     "output_type": "execute_result"
    }
   ],
   "source": [
    "ms_ssim_metric = ncm.MultiscaleStructuralSimilarity()\n",
    "\n",
    "ms_ssim_module = ms_ssim_metric(image_a, image_b)\n",
    "ms_ssim_functional = ncF.multiscale_structural_similarity(image_a, image_b)\n",
    "\n",
    "ms_ssim_module, ms_ssim_functional"
   ]
  },
  {
   "cell_type": "markdown",
   "id": "20d173f6",
   "metadata": {},
   "source": [
    "Module-based metrics in `neuralcompression` are instances of `torchmetrics.Metric`, so they are fully compatible with other `torchmetrics` features, like metric collections."
   ]
  },
  {
   "cell_type": "code",
   "execution_count": 9,
   "id": "68d9d396",
   "metadata": {},
   "outputs": [
    {
     "data": {
      "text/plain": [
       "{'PSNR': tensor(16.0272), 'MultiscaleStructuralSimilarity': tensor(0.)}"
      ]
     },
     "execution_count": 9,
     "metadata": {},
     "output_type": "execute_result"
    }
   ],
   "source": [
    "# Using metrics from both torchmetrics and neuralcompression\n",
    "collection = tm.MetricCollection(\n",
    "    psnr_metric,\n",
    "    ms_ssim_metric\n",
    ")\n",
    "\n",
    "collection(image_a, image_b)"
   ]
  },
  {
   "cell_type": "markdown",
   "id": "b0d4a7a3",
   "metadata": {},
   "source": [
    "## Calculating Rate-Distortion Curves\n",
    "\n",
    "We'll now go through an example of calculating rate-distortion curves for the [scale hyperprior model](https://arxiv.org/abs/1802.01436) on the [Kodak dataset](http://www.cs.albany.edu/~xypan/research/snr/Kodak.html), comparing it to the non-ML image codec JPEG."
   ]
  },
  {
   "cell_type": "code",
   "execution_count": 10,
   "id": "9ff4647e",
   "metadata": {},
   "outputs": [],
   "source": [
    "def make_jpeg_rd_curve(dataloader, metrics: tm.MetricCollection):\n",
    "        \n",
    "    rd_curve = []\n",
    "    to_PIL = tfms.ToPILImage()\n",
    "    to_tensor = tfms.ToTensor()\n",
    "    \n",
    "    for quality in tqdm(range(0, 91, 10)):\n",
    "        \n",
    "        bpp_sum = 0.0\n",
    "        metrics_sum = defaultdict(lambda: 0.0)\n",
    "        \n",
    "        for img in dataloader:\n",
    "            pil_image = to_PIL(img.squeeze(0))\n",
    "            buffer = io.BytesIO()\n",
    "            pil_image.save(buffer, format=\"JPEG\", quality=quality)\n",
    "            \n",
    "            bits = len(buffer.getvalue()) * 8\n",
    "            bpp = bits / (img.shape[2] * img.shape[3])\n",
    "            \n",
    "            bpp_sum += bpp\n",
    "            \n",
    "            reconstruction = to_tensor(Image.open(buffer, formats=[\"JPEG\"])).unsqueeze(0)\n",
    "            \n",
    "            distortions = metrics(img, reconstruction)\n",
    "            for k,v in distortions.items():\n",
    "                metrics_sum[k] += v\n",
    "        \n",
    "        average_metrics = {k: v / len(dataloader) for k,v in metrics_sum.items()}\n",
    "        average_bpp = bpp_sum / len(dataloader)\n",
    "        \n",
    "        rd_curve.append((average_bpp, average_metrics))\n",
    "    \n",
    "    return rd_curve\n",
    "\n",
    "def make_scale_hyperprior_rd_curve(dataloader, metrics: tm.MetricCollection):\n",
    "    rd_curve = []\n",
    "    to_tensor = tfms.ToTensor()\n",
    "        \n",
    "    for quality in tqdm(range(1, 9)):\n",
    "        \n",
    "        bpp_sum = 0.0\n",
    "        metrics_sum = defaultdict(lambda: 0.0)\n",
    "        \n",
    "        model = zoo.bmshj2018_hyperprior(quality=quality, pretrained=True).cuda()\n",
    "        model.eval()\n",
    "        model.update()\n",
    "        with torch.no_grad():\n",
    "            for img in tqdm(dataloader):     \n",
    "                img = img.cuda()\n",
    "                compressed = model.compress(img)\n",
    "                bits = 0.0\n",
    "                for string_list in compressed[\"strings\"]: # strings for image + hyper latent\n",
    "                    for string in string_list: # iterating over batch\n",
    "                        bits += len(string) * 8\n",
    "\n",
    "                bpp = bits / (img.shape[0] * img.shape[2] * img.shape[3])\n",
    "\n",
    "                bpp_sum += bpp\n",
    "\n",
    "                reconstruction = model.decompress(**compressed)[\"x_hat\"]\n",
    "                \n",
    "                img = img.cpu()\n",
    "                reconstruction = reconstruction.cpu()\n",
    "                \n",
    "#                 img = img.cuda()\n",
    "#                 reconstruction = reconstruction.cuda()\n",
    "                \n",
    "                distortions = metrics(img, reconstruction)\n",
    "                for k,v in distortions.items():\n",
    "                    metrics_sum[k] += v\n",
    "\n",
    "            average_metrics = {k: v / len(dataloader) for k,v in metrics_sum.items()}\n",
    "            average_bpp = bpp_sum / len(dataloader)\n",
    "            rd_curve.append((average_bpp, average_metrics))\n",
    "        \n",
    "        del model\n",
    "    \n",
    "    return rd_curve"
   ]
  },
  {
   "cell_type": "code",
   "execution_count": 11,
   "id": "541dda0f-8920-48f9-9b47-310625ef0be6",
   "metadata": {},
   "outputs": [],
   "source": [
    "from NeuralCompression.neuralcompression.data._kodak import Kodak"
   ]
  },
  {
   "cell_type": "code",
   "execution_count": 12,
   "id": "dc914944",
   "metadata": {},
   "outputs": [],
   "source": [
    "# Pass download=True if dataset doesn't exist already\n",
    "ds = Kodak(\"kodak\", transform = tfms.ToTensor())\n",
    "dl = DataLoader(ds, batch_size = 1)\n",
    "metrics = tm.MetricCollection(\n",
    "    tm.PSNR(), \n",
    "    tm.MeanSquaredError(), \n",
    "    ncm.MultiscaleStructuralSimilarity()\n",
    ")"
   ]
  },
  {
   "cell_type": "code",
   "execution_count": 14,
   "id": "a32c9721",
   "metadata": {},
   "outputs": [
    {
     "name": "stderr",
     "output_type": "stream",
     "text": [
      "Widget Javascript not detected.  It may not be installed or enabled properly.\n"
     ]
    },
    {
     "data": {
      "application/vnd.jupyter.widget-view+json": {
       "model_id": "dd9625ff03484daf953fb1a92fa4353c"
      }
     },
     "metadata": {},
     "output_type": "display_data"
    },
    {
     "name": "stdout",
     "output_type": "stream",
     "text": [
      "\n"
     ]
    }
   ],
   "source": [
    "jpeg_curve = make_jpeg_rd_curve(dl, metrics)"
   ]
  },
  {
   "cell_type": "code",
   "execution_count": 13,
   "id": "584e5eb4",
   "metadata": {
    "scrolled": true
   },
   "outputs": [
    {
     "name": "stderr",
     "output_type": "stream",
     "text": [
      "Widget Javascript not detected.  It may not be installed or enabled properly.\n"
     ]
    },
    {
     "data": {
      "application/vnd.jupyter.widget-view+json": {
       "model_id": "beb4784a7f4b4998ac3f19958f068ff1"
      }
     },
     "metadata": {},
     "output_type": "display_data"
    },
    {
     "name": "stderr",
     "output_type": "stream",
     "text": [
      "Widget Javascript not detected.  It may not be installed or enabled properly.\n"
     ]
    },
    {
     "data": {
      "application/vnd.jupyter.widget-view+json": {
       "model_id": "cfc7af944f7c497b83b8be37095d7ebb"
      }
     },
     "metadata": {},
     "output_type": "display_data"
    },
    {
     "name": "stdout",
     "output_type": "stream",
     "text": [
      "\n"
     ]
    },
    {
     "name": "stderr",
     "output_type": "stream",
     "text": [
      "Widget Javascript not detected.  It may not be installed or enabled properly.\n"
     ]
    },
    {
     "data": {
      "application/vnd.jupyter.widget-view+json": {
       "model_id": "e414b4fa91a74bc293d7c583d69c329d"
      }
     },
     "metadata": {},
     "output_type": "display_data"
    },
    {
     "name": "stdout",
     "output_type": "stream",
     "text": [
      "\n"
     ]
    },
    {
     "name": "stderr",
     "output_type": "stream",
     "text": [
      "Downloading: \"https://compressai.s3.amazonaws.com/models/v1/bmshj2018-hyperprior-3-6d87be32.pth.tar\" to /home/babakov/.cache/torch/hub/checkpoints/bmshj2018-hyperprior-3-6d87be32.pth.tar\n",
      "Widget Javascript not detected.  It may not be installed or enabled properly.\n"
     ]
    },
    {
     "data": {
      "application/vnd.jupyter.widget-view+json": {
       "model_id": "5ec5e20a998a41d4ac2714e2e6d32409"
      }
     },
     "metadata": {},
     "output_type": "display_data"
    },
    {
     "name": "stdout",
     "output_type": "stream",
     "text": [
      "\n"
     ]
    },
    {
     "name": "stderr",
     "output_type": "stream",
     "text": [
      "Widget Javascript not detected.  It may not be installed or enabled properly.\n"
     ]
    },
    {
     "data": {
      "application/vnd.jupyter.widget-view+json": {
       "model_id": "04648c206a8e49f0823475a274425a0f"
      }
     },
     "metadata": {},
     "output_type": "display_data"
    },
    {
     "name": "stdout",
     "output_type": "stream",
     "text": [
      "\n"
     ]
    },
    {
     "name": "stderr",
     "output_type": "stream",
     "text": [
      "Downloading: \"https://compressai.s3.amazonaws.com/models/v1/bmshj2018-hyperprior-4-de1b779c.pth.tar\" to /home/babakov/.cache/torch/hub/checkpoints/bmshj2018-hyperprior-4-de1b779c.pth.tar\n",
      "Widget Javascript not detected.  It may not be installed or enabled properly.\n"
     ]
    },
    {
     "data": {
      "application/vnd.jupyter.widget-view+json": {
       "model_id": "7d411e21628e4cf69770e88a4ed67f6b"
      }
     },
     "metadata": {},
     "output_type": "display_data"
    },
    {
     "name": "stdout",
     "output_type": "stream",
     "text": [
      "\n"
     ]
    },
    {
     "name": "stderr",
     "output_type": "stream",
     "text": [
      "Widget Javascript not detected.  It may not be installed or enabled properly.\n"
     ]
    },
    {
     "data": {
      "application/vnd.jupyter.widget-view+json": {
       "model_id": "144f4e975d4f4470bde7cf3f376c32b2"
      }
     },
     "metadata": {},
     "output_type": "display_data"
    },
    {
     "name": "stdout",
     "output_type": "stream",
     "text": [
      "\n"
     ]
    },
    {
     "name": "stderr",
     "output_type": "stream",
     "text": [
      "Downloading: \"https://compressai.s3.amazonaws.com/models/v1/bmshj2018-hyperprior-5-f8b614e1.pth.tar\" to /home/babakov/.cache/torch/hub/checkpoints/bmshj2018-hyperprior-5-f8b614e1.pth.tar\n",
      "Widget Javascript not detected.  It may not be installed or enabled properly.\n"
     ]
    },
    {
     "data": {
      "application/vnd.jupyter.widget-view+json": {
       "model_id": "9af474e4deb843d2b41bafbdda4b8f8c"
      }
     },
     "metadata": {},
     "output_type": "display_data"
    },
    {
     "name": "stdout",
     "output_type": "stream",
     "text": [
      "\n"
     ]
    },
    {
     "name": "stderr",
     "output_type": "stream",
     "text": [
      "Widget Javascript not detected.  It may not be installed or enabled properly.\n"
     ]
    },
    {
     "data": {
      "application/vnd.jupyter.widget-view+json": {
       "model_id": "bc8b8c985602468aaefd7673d5ca6d5a"
      }
     },
     "metadata": {},
     "output_type": "display_data"
    },
    {
     "name": "stdout",
     "output_type": "stream",
     "text": [
      "\n"
     ]
    },
    {
     "name": "stderr",
     "output_type": "stream",
     "text": [
      "Downloading: \"https://compressai.s3.amazonaws.com/models/v1/bmshj2018-hyperprior-6-1ab9c41e.pth.tar\" to /home/babakov/.cache/torch/hub/checkpoints/bmshj2018-hyperprior-6-1ab9c41e.pth.tar\n",
      "Widget Javascript not detected.  It may not be installed or enabled properly.\n"
     ]
    },
    {
     "data": {
      "application/vnd.jupyter.widget-view+json": {
       "model_id": "3db553b830954fb9a17aaceab7afd04e"
      }
     },
     "metadata": {},
     "output_type": "display_data"
    },
    {
     "name": "stdout",
     "output_type": "stream",
     "text": [
      "\n"
     ]
    },
    {
     "name": "stderr",
     "output_type": "stream",
     "text": [
      "Widget Javascript not detected.  It may not be installed or enabled properly.\n"
     ]
    },
    {
     "data": {
      "application/vnd.jupyter.widget-view+json": {
       "model_id": "7bbe32f9a2aa453a80313b75537e9347"
      }
     },
     "metadata": {},
     "output_type": "display_data"
    },
    {
     "name": "stdout",
     "output_type": "stream",
     "text": [
      "\n"
     ]
    },
    {
     "name": "stderr",
     "output_type": "stream",
     "text": [
      "Downloading: \"https://compressai.s3.amazonaws.com/models/v1/bmshj2018-hyperprior-7-3804dcbd.pth.tar\" to /home/babakov/.cache/torch/hub/checkpoints/bmshj2018-hyperprior-7-3804dcbd.pth.tar\n",
      "Widget Javascript not detected.  It may not be installed or enabled properly.\n"
     ]
    },
    {
     "data": {
      "application/vnd.jupyter.widget-view+json": {
       "model_id": "2f9b5392634d43969a7c54b76ed5d8cf"
      }
     },
     "metadata": {},
     "output_type": "display_data"
    },
    {
     "name": "stdout",
     "output_type": "stream",
     "text": [
      "\n"
     ]
    },
    {
     "name": "stderr",
     "output_type": "stream",
     "text": [
      "Widget Javascript not detected.  It may not be installed or enabled properly.\n"
     ]
    },
    {
     "data": {
      "application/vnd.jupyter.widget-view+json": {
       "model_id": "83cc4326eb5f44a99984bef99081c218"
      }
     },
     "metadata": {},
     "output_type": "display_data"
    },
    {
     "name": "stdout",
     "output_type": "stream",
     "text": [
      "\n"
     ]
    },
    {
     "name": "stderr",
     "output_type": "stream",
     "text": [
      "Downloading: \"https://compressai.s3.amazonaws.com/models/v1/bmshj2018-hyperprior-8-a583f0cf.pth.tar\" to /home/babakov/.cache/torch/hub/checkpoints/bmshj2018-hyperprior-8-a583f0cf.pth.tar\n",
      "Widget Javascript not detected.  It may not be installed or enabled properly.\n"
     ]
    },
    {
     "data": {
      "application/vnd.jupyter.widget-view+json": {
       "model_id": "c3d0f6e992c045ec946b2d671211ca5e"
      }
     },
     "metadata": {},
     "output_type": "display_data"
    },
    {
     "name": "stdout",
     "output_type": "stream",
     "text": [
      "\n"
     ]
    },
    {
     "name": "stderr",
     "output_type": "stream",
     "text": [
      "Widget Javascript not detected.  It may not be installed or enabled properly.\n"
     ]
    },
    {
     "data": {
      "application/vnd.jupyter.widget-view+json": {
       "model_id": "47fc9bece4ed4c239b2f698f497d9dd8"
      }
     },
     "metadata": {},
     "output_type": "display_data"
    },
    {
     "name": "stdout",
     "output_type": "stream",
     "text": [
      "\n",
      "\n"
     ]
    }
   ],
   "source": [
    "shp_curve = make_scale_hyperprior_rd_curve(dl, metrics)"
   ]
  },
  {
   "cell_type": "markdown",
   "id": "50bb758e",
   "metadata": {},
   "source": [
    "## Plotting the Results"
   ]
  },
  {
   "cell_type": "code",
   "execution_count": 16,
   "id": "a6ff3bae",
   "metadata": {},
   "outputs": [],
   "source": [
    "def plot_rd_curve(names_to_rd_curves, metric_name, y_label = None, y_transform = None):       \n",
    "    plot = plt.axes()\n",
    "\n",
    "    plot.set_title(f\"{metric_name} vs bits-per-pixel\")\n",
    "    plot.set_xlabel(\"bits per pixel\")\n",
    "    \n",
    "    if y_label is None:\n",
    "        plot.set_ylabel(metric_name)\n",
    "    else:\n",
    "        plot.set_ylabel(y_label)\n",
    "        \n",
    "    for codec_name, curve in names_to_rd_curves.items():\n",
    "        x_data = [data[0] for data in curve]\n",
    "        y_data = [data[1][metric_name] for data in curve]\n",
    "            \n",
    "        if y_transform is not None:\n",
    "            y_data = [y_transform(y) for y in y_data]\n",
    "        \n",
    "        line, = plot.plot(x_data, y_data)\n",
    "        line.set_label(codec_name)\n",
    "\n",
    "    plot.grid()\n",
    "    plot.legend()\n",
    "    \n",
    "    return plot"
   ]
  },
  {
   "cell_type": "code",
   "execution_count": 17,
   "id": "1c4a5f5a",
   "metadata": {},
   "outputs": [],
   "source": [
    "curve_dict = {\"JPEG\": jpeg_curve, \"Scale Hyperprior\": shp_curve}"
   ]
  },
  {
   "cell_type": "code",
   "execution_count": 23,
   "id": "50237fdc",
   "metadata": {},
   "outputs": [
    {
     "data": {
      "text/plain": [
       "<AxesSubplot:title={'center':'PSNR vs bits-per-pixel'}, xlabel='bits per pixel', ylabel='PSNR'>"
      ]
     },
     "execution_count": 23,
     "metadata": {},
     "output_type": "execute_result"
    },
    {
     "data": {
      "image/png": "[encoded data removed]",
      "text/plain": [
       "<Figure size 432x288 with 1 Axes>"
      ]
     },
     "metadata": {
      "needs_background": "light"
     },
     "output_type": "display_data"
    }
   ],
   "source": [
    "plot_rd_curve(curve_dict, \"PSNR\")"
   ]
  },
  {
   "cell_type": "code",
   "execution_count": 19,
   "id": "603e0efa",
   "metadata": {},
   "outputs": [
    {
     "data": {
      "text/plain": [
       "<AxesSubplot:title={'center':'MeanSquaredError vs bits-per-pixel'}, xlabel='bits per pixel', ylabel='MeanSquaredError'>"
      ]
     },
     "execution_count": 19,
     "metadata": {},
     "output_type": "execute_result"
    },
    {
     "data": {
      "image/png": "[encoded data removed]",
      "text/plain": [
       "<Figure size 432x288 with 1 Axes>"
      ]
     },
     "metadata": {
      "needs_background": "light"
     },
     "output_type": "display_data"
    }
   ],
   "source": [
    "plot_rd_curve(curve_dict, \"MeanSquaredError\")"
   ]
  },
  {
   "cell_type": "code",
   "execution_count": 20,
   "id": "bcec9b00",
   "metadata": {
    "scrolled": true
   },
   "outputs": [
    {
     "data": {
      "text/plain": [
       "<AxesSubplot:title={'center':'MultiscaleStructuralSimilarity vs bits-per-pixel'}, xlabel='bits per pixel', ylabel='MS-SSIM (dB)'>"
      ]
     },
     "execution_count": 20,
     "metadata": {},
     "output_type": "execute_result"
    },
    {
     "data": {
      "image/png": "[encoded data removed]",
      "text/plain": [
       "<Figure size 432x288 with 1 Axes>"
      ]
     },
     "metadata": {
      "needs_background": "light"
     },
     "output_type": "display_data"
    }
   ],
   "source": [
    "# Plotting MS-SSIM in dB as is done in the Scale Hyperprior paper.\n",
    "plot_rd_curve(\n",
    "    curve_dict, \n",
    "    \"MultiscaleStructuralSimilarity\", \n",
    "    y_transform = lambda d: -10*math.log10(1 - d), \n",
    "    y_label = \"MS-SSIM (dB)\"\n",
    ")"
   ]
  },
  {
   "cell_type": "markdown",
   "id": "5064d93a",
   "metadata": {},
   "source": [
    "# Conclusion"
   ]
  },
  {
   "cell_type": "markdown",
   "id": "3b8fd1da",
   "metadata": {},
   "source": [
    "Check out the [torchmetrics documentation](https://torchmetrics.readthedocs.io/en/latest/) for more details on metric features like syncing state across processes and compatability with PyTorch Lightning."
   ]
  },
  {
   "cell_type": "code",
   "execution_count": null,
   "id": "bc05ce8e",
   "metadata": {},
   "outputs": [],
   "source": []
  }
 ],
 "metadata": {
  "kernelspec": {
   "display_name": "Python 3",
   "language": "python",
   "name": "python3"
  },
  "language_info": {
   "codemirror_mode": {
    "name": "ipython",
    "version": 3
   },
   "file_extension": ".py",
   "mimetype": "text/x-python",
   "name": "python",
   "nbconvert_exporter": "python",
   "pygments_lexer": "ipython3",
   "version": "3.8.10"
  }
 },
 "nbformat": 4,
 "nbformat_minor": 5
}
