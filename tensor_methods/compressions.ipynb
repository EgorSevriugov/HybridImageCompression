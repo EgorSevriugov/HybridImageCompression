{
 "cells": [
  {
   "cell_type": "code",
   "execution_count": null,
   "id": "7f484423-5cb2-45f3-92a9-b7875018c55c",
   "metadata": {},
   "outputs": [
    {
     "name": "stdout",
     "output_type": "stream",
     "text": [
      "Using /home/babakov/.cache/torch_extensions/py38_cu102 as PyTorch extensions root...\n",
      "Emitting ninja build file /home/babakov/.cache/torch_extensions/py38_cu102/_pmf_to_quantized_cdf/build.ninja...\n",
      "Building extension module _pmf_to_quantized_cdf...\n",
      "Allowing ninja to set a default number of workers... (overridable by setting the environment variable MAX_JOBS=N)\n",
      "Loading extension module _pmf_to_quantized_cdf...\n"
     ]
    }
   ],
   "source": [
    "from collections import defaultdict\n",
    "import io\n",
    "\n",
    "import torch\n",
    "from torch.utils.data import DataLoader\n",
    "\n",
    "from compressai import zoo\n",
    "\n",
    "import torchmetrics as tm\n",
    "import torchmetrics.functional as tmF\n",
    "\n",
    "import neuralcompression as nc\n",
    "import neuralcompression.functional as ncF\n",
    "import neuralcompression.metrics as ncm\n",
    "\n",
    "import torchvision.transforms as tfms\n",
    "import numpy as np\n",
    "\n",
    "from tqdm import tqdm\n",
    "\n",
    "import math\n",
    "from PIL import Image\n",
    "\n",
    "import matplotlib.pyplot as plt"
   ]
  },
  {
   "cell_type": "markdown",
   "id": "cbb5b531-16e5-4262-872c-8664edad4900",
   "metadata": {},
   "source": [
    "# Data"
   ]
  },
  {
   "cell_type": "code",
   "execution_count": 2,
   "id": "64ecd7a6-cce9-4de1-b11f-512abe2ee9a5",
   "metadata": {},
   "outputs": [],
   "source": [
    "from NeuralCompression.neuralcompression.data._kodak import Kodak"
   ]
  },
  {
   "cell_type": "code",
   "execution_count": 22,
   "id": "07ada393-f44b-472e-9513-86ebb03dcee8",
   "metadata": {},
   "outputs": [
    {
     "name": "stdout",
     "output_type": "stream",
     "text": [
      "torch.Size([1, 3, 512, 768])\n"
     ]
    }
   ],
   "source": [
    "# Pass download=True if dataset doesn't exist already\n",
    "ds = Kodak(\"kodak\", transform = tfms.ToTensor())\n",
    "dl = DataLoader(ds, batch_size = 1)\n",
    "\n",
    "for i, img in enumerate(dl):   \n",
    "    print(img.shape)\n",
    "    break"
   ]
  },
  {
   "cell_type": "markdown",
   "id": "422d1bde-c0ec-4b1c-b403-956bf482b04f",
   "metadata": {},
   "source": [
    "# CP"
   ]
  },
  {
   "cell_type": "code",
   "execution_count": 4,
   "id": "5ecfa02e-0aa4-4cf8-8ed8-2f923dc4e428",
   "metadata": {},
   "outputs": [],
   "source": [
    "# http://tensorly.org/stable/auto_examples/decomposition/plot_image_compression.html#sphx-glr-auto-examples-decomposition-plot-image-compression-py"
   ]
  },
  {
   "cell_type": "code",
   "execution_count": 5,
   "id": "d78b823c-fa8b-4618-b6ec-50453b6fa572",
   "metadata": {},
   "outputs": [],
   "source": [
    "import matplotlib.pyplot as plt\n",
    "import tensorly as tl\n",
    "import numpy as np\n",
    "from scipy.misc import face\n",
    "from scipy.ndimage import zoom\n",
    "from tensorly.decomposition import parafac\n",
    "from tensorly.decomposition import tucker\n",
    "from math import ceil\n",
    "\n",
    "from tensorly.decomposition import matrix_product_state\n",
    "from tensorly import tt_to_tensor"
   ]
  },
  {
   "cell_type": "code",
   "execution_count": 6,
   "id": "30c0335b-ac32-4fde-a379-76a672a02ba8",
   "metadata": {},
   "outputs": [],
   "source": [
    "def to_image(tensor):\n",
    "    \"\"\"A convenience function to convert from a float dtype back to uint8\"\"\"\n",
    "    im = tl.to_numpy(tensor)\n",
    "    im -= im.min()\n",
    "    im /= im.max()\n",
    "    im *= 255\n",
    "    return im.astype(np.uint8)"
   ]
  },
  {
   "cell_type": "code",
   "execution_count": 7,
   "id": "84d96746-67ab-4c93-9b74-a012a912bbc6",
   "metadata": {},
   "outputs": [
    {
     "name": "stderr",
     "output_type": "stream",
     "text": [
      "/home/babakov/.local/lib/python3.8/site-packages/deprecate/deprecation.py:115: FutureWarning: The `PSNR` was deprecated since v0.7 in favor of `torchmetrics.image.psnr.PeakSignalNoiseRatio`. It will be removed in v0.8.\n",
      "  stream(template_mgs % msg_args)\n"
     ]
    }
   ],
   "source": [
    "metrics = tm.MetricCollection(\n",
    "    tm.PSNR(), \n",
    "    tm.MeanSquaredError(), \n",
    "    ncm.MultiscaleStructuralSimilarity()#\n",
    ")"
   ]
  },
  {
   "cell_type": "code",
   "execution_count": 29,
   "id": "274be1bc-2f0e-48a3-af2a-948336d71f93",
   "metadata": {},
   "outputs": [
    {
     "name": "stdout",
     "output_type": "stream",
     "text": [
      "4\n",
      "8\n",
      "12\n",
      "16\n",
      "20\n"
     ]
    }
   ],
   "source": [
    "for rank in range(4,22,4):\n",
    "    print(rank)"
   ]
  },
  {
   "cell_type": "code",
   "execution_count": 51,
   "id": "f6f5b267-813a-4105-8841-05d2a4478996",
   "metadata": {},
   "outputs": [
    {
     "name": "stderr",
     "output_type": "stream",
     "text": [
      "\n",
      "\n",
      "\n",
      "\n",
      "\n",
      "\n",
      "\n",
      "\n",
      "  0%|          | 0/2 [00:00<?, ?it/s]\u001b[A\u001b[A\u001b[A\u001b[A\u001b[A\u001b[A\u001b[A\u001b[A\n",
      "\n",
      "\n",
      "\n",
      "\n",
      "\n",
      "\n",
      "\n",
      " 50%|█████     | 1/2 [00:40<00:40, 40.21s/it]\u001b[A\u001b[A\u001b[A\u001b[A\u001b[A\u001b[A\u001b[A\u001b[A\n",
      "\n",
      "\n",
      "\n",
      "\n",
      "\n",
      "\n",
      "\n",
      "100%|██████████| 2/2 [02:11<00:00, 65.76s/it]\u001b[A\u001b[A\u001b[A\u001b[A\u001b[A\u001b[A\u001b[A\u001b[A\n"
     ]
    }
   ],
   "source": [
    "def make_rd_curve(dataloader, dec_type, metrics: tm.MetricCollection):\n",
    "    rd_curve = []\n",
    "    to_tensor = tfms.ToTensor()\n",
    "    \n",
    "    random_state = 12345\n",
    "    \n",
    "    if dec_type == 'cp':\n",
    "        tq = tqdm(range(1,5,2))\n",
    "    elif dec_type == 'tucker':\n",
    "        tq = tqdm(range(2,20,4))\n",
    "    elif dec_type == 'tt':\n",
    "        tq = tqdm(range(4,13,2))\n",
    "        \n",
    "    for rank in tq:\n",
    "        \n",
    "        bpp_sum = 0.0\n",
    "        metrics_sum = defaultdict(lambda: 0.0)\n",
    "\n",
    "        for i, img in enumerate(dataloader):     \n",
    "            \n",
    "            img = tl.tensor(img, dtype='float32')\n",
    "            \n",
    "            if dec_type == 'cp':\n",
    "                weights, factors = parafac(img, rank=rank, init='random', tol=10e-6)\n",
    "                # Reconstruct the image from the factors\n",
    "                reconstruction = tl.cp_to_tensor((weights, factors))    \n",
    "                bpp = sum([np.prod(param.shape) for param in [weights] + factors]) * 32 / img.shape[2] / img.shape[3]\n",
    "            elif dec_type == 'tucker':\n",
    "                tucker_rank = [rank] * 4\n",
    "                weights, factors = tucker(img, rank=tucker_rank, init='random', tol=10e-5, random_state=random_state)\n",
    "                reconstruction = tl.tucker_to_tensor((weights, factors))\n",
    "                bpp = sum([np.prod(param.shape) for param in [weights] + factors]) * 32 / img.shape[2] / img.shape[3]\n",
    "            elif dec_type == 'tt':\n",
    "                # Tucker decomposition\n",
    "                rank_list = [1] + [rank] * 3 + [1]\n",
    "                factors = matrix_product_state(img, rank=rank_list)\n",
    "                reconstruction = tt_to_tensor(factors)\n",
    "                bpp = sum([np.prod(param.shape) for param in factors]) * 32 / img.shape[2] / img.shape[3]\n",
    "            \n",
    "            # print(img.shape)\n",
    "            # print(bpp)\n",
    "\n",
    "            bpp_sum += bpp\n",
    "            \n",
    "            if dec_type == 'cp':\n",
    "                img = torch.tensor(img)\n",
    "                reconstruction = torch.tensor(reconstruction)\n",
    "            else:\n",
    "                img = torch.tensor(img).double()\n",
    "                reconstruction = torch.tensor(reconstruction).double()\n",
    "\n",
    "            distortions = metrics(img, reconstruction)\n",
    "            for k,v in distortions.items():\n",
    "                metrics_sum[k] += v\n",
    "                \n",
    "#             raise Exception(\"STOP\")\n",
    "#             if i == 2: break\n",
    "\n",
    "        average_metrics = {k: v / len(dataloader) for k,v in metrics_sum.items()}\n",
    "        average_bpp = bpp_sum / len(dataloader)\n",
    "        rd_curve.append((average_bpp, average_metrics))\n",
    "        \n",
    "        # break\n",
    "\n",
    "    return rd_curve\n",
    "\n",
    "cp_curve = make_rd_curve(dl, 'cp', metrics)"
   ]
  },
  {
   "cell_type": "code",
   "execution_count": 52,
   "id": "ca845705-66a0-4b17-9d31-ff43a148e3f7",
   "metadata": {},
   "outputs": [],
   "source": [
    "# torch.save(cp_curve, 'cp.pt')\n",
    "torch.save(cp_curve, 'cp_prev.pt')"
   ]
  },
  {
   "cell_type": "code",
   "execution_count": 53,
   "id": "1dc71f09-7ecd-4b6c-804d-d1e5c7a4d3b7",
   "metadata": {},
   "outputs": [],
   "source": [
    "cp_curve_1 = torch.load('cp_prev.pt')\n",
    "cp_curve_2 = torch.load('cp.pt')\n",
    "cp_curve = cp_curve_1[1:] + cp_curve_2"
   ]
  },
  {
   "cell_type": "code",
   "execution_count": 41,
   "id": "5b6a05b8-635b-4be1-8ebf-f8682840225e",
   "metadata": {},
   "outputs": [],
   "source": [
    "tucker_curve = torch.load('tuckercurve.pt')"
   ]
  },
  {
   "cell_type": "code",
   "execution_count": 63,
   "id": "d30f8601-1914-4172-98b3-2005c24d1718",
   "metadata": {},
   "outputs": [],
   "source": [
    "tt_curve_1 = torch.load('tt_curve_prev.pt')\n",
    "tt_curve_2 = torch.load('tt_curve.pt')\n",
    "tt_curve = tt_curve_1 + tt_curve_2"
   ]
  },
  {
   "cell_type": "markdown",
   "id": "8600a134-9729-4006-bda9-fa4e8cf05c56",
   "metadata": {
    "tags": []
   },
   "source": [
    "# Plot"
   ]
  },
  {
   "cell_type": "code",
   "execution_count": 65,
   "id": "f36876aa-bcd0-44e0-bd94-8ef43e4909eb",
   "metadata": {},
   "outputs": [],
   "source": [
    "def plot_rd_curve(names_to_rd_curves, metric_name, y_label = None, y_transform = None):       \n",
    "    plot = plt.axes()\n",
    "\n",
    "    plot.set_title(f\"{metric_name} vs bits-per-pixel\")\n",
    "    plot.set_xlabel(\"bits per pixel\")\n",
    "    \n",
    "    if y_label is None:\n",
    "        plot.set_ylabel(metric_name)\n",
    "    else:\n",
    "        plot.set_ylabel(y_label)\n",
    "        \n",
    "    for codec_name, curve in names_to_rd_curves.items():\n",
    "        x_data = [data[0] for data in curve]\n",
    "        y_data = [data[1][metric_name] for data in curve]\n",
    "            \n",
    "        if y_transform is not None:\n",
    "            y_data = [y_transform(y) for y in y_data]\n",
    "        \n",
    "        line, = plot.plot(x_data, y_data)\n",
    "        line.set_label(codec_name)\n",
    "\n",
    "    plot.grid()\n",
    "    plot.legend()\n",
    "    \n",
    "    return plot"
   ]
  },
  {
   "cell_type": "code",
   "execution_count": 72,
   "id": "93560125-3573-4ac9-b334-b4c7e86ce958",
   "metadata": {},
   "outputs": [],
   "source": [
    "curve_dict = {\"CP\": cp_curve,\"Tucker\":tucker_curve,\"TT\":tt_curve}"
   ]
  },
  {
   "cell_type": "code",
   "execution_count": 76,
   "id": "cdafe401-277a-471f-b717-cef98dba8830",
   "metadata": {},
   "outputs": [
    {
     "data": {
      "text/plain": [
       "<AxesSubplot:title={'center':'PSNR vs bits-per-pixel'}, xlabel='bits per pixel', ylabel='PSNR'>"
      ]
     },
     "execution_count": 76,
     "metadata": {},
     "output_type": "execute_result"
    },
    {
     "data": {
      "image/png": "[encoded data removed]",
      "text/plain": [
       "<Figure size 432x288 with 1 Axes>"
      ]
     },
     "metadata": {
      "needs_background": "light"
     },
     "output_type": "display_data"
    }
   ],
   "source": [
    "plot_rd_curve(curve_dict, \"PSNR\")"
   ]
  },
  {
   "cell_type": "code",
   "execution_count": 77,
   "id": "86feaf7b-d21c-4abf-8721-08a707c14ae0",
   "metadata": {},
   "outputs": [
    {
     "data": {
      "text/plain": [
       "<AxesSubplot:title={'center':'MeanSquaredError vs bits-per-pixel'}, xlabel='bits per pixel', ylabel='MeanSquaredError'>"
      ]
     },
     "execution_count": 77,
     "metadata": {},
     "output_type": "execute_result"
    },
    {
     "data": {
      "image/png": "[encoded data removed]",
      "text/plain": [
       "<Figure size 432x288 with 1 Axes>"
      ]
     },
     "metadata": {
      "needs_background": "light"
     },
     "output_type": "display_data"
    }
   ],
   "source": [
    "plot_rd_curve(curve_dict, \"MeanSquaredError\")"
   ]
  },
  {
   "cell_type": "code",
   "execution_count": 78,
   "id": "85b291d6-e717-4af3-9e83-086943a5dbde",
   "metadata": {},
   "outputs": [
    {
     "data": {
      "text/plain": [
       "<AxesSubplot:title={'center':'MultiscaleStructuralSimilarity vs bits-per-pixel'}, xlabel='bits per pixel', ylabel='MS-SSIM (dB)'>"
      ]
     },
     "execution_count": 78,
     "metadata": {},
     "output_type": "execute_result"
    },
    {
     "data": {
      "image/png": "[encoded data removed]",
      "text/plain": [
       "<Figure size 432x288 with 1 Axes>"
      ]
     },
     "metadata": {
      "needs_background": "light"
     },
     "output_type": "display_data"
    }
   ],
   "source": [
    "# Plotting MS-SSIM in dB as is done in the Scale Hyperprior paper.\n",
    "plot_rd_curve(\n",
    "    curve_dict, \n",
    "    \"MultiscaleStructuralSimilarity\", \n",
    "    y_transform = lambda d: -10*math.log10(1 - d), \n",
    "    y_label = \"MS-SSIM (dB)\"\n",
    ")"
   ]
  }
 ],
 "metadata": {
  "kernelspec": {
   "display_name": "Python 3",
   "language": "python",
   "name": "python3"
  },
  "language_info": {
   "codemirror_mode": {
    "name": "ipython",
    "version": 3
   },
   "file_extension": ".py",
   "mimetype": "text/x-python",
   "name": "python",
   "nbconvert_exporter": "python",
   "pygments_lexer": "ipython3",
   "version": "3.8.10"
  }
 },
 "nbformat": 4,
 "nbformat_minor": 5
}
